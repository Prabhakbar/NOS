{
 "cells": [
  {
   "cell_type": "code",
   "execution_count": 89,
   "metadata": {},
   "outputs": [
    {
     "name": "stdout",
     "output_type": "stream",
     "text": [
      "Addition: 10 + 5 = 15\n"
     ]
    }
   ],
   "source": [
    "#task one\n",
    "#add\n",
    "num1 = 10\n",
    "num2 = 5\n",
    "addition_result = num1 + num2\n",
    "print(f\"Addition: {num1} + {num2} = {addition_result}\")"
   ]
  },
  {
   "cell_type": "code",
   "execution_count": 90,
   "metadata": {},
   "outputs": [
    {
     "name": "stdout",
     "output_type": "stream",
     "text": [
      "Subtraction: 10 - 5 = 5\n"
     ]
    }
   ],
   "source": [
    "#subtract\n",
    "subtraction_result = num1 - num2\n",
    "print(f\"Subtraction: {num1} - {num2} = {subtraction_result}\")\n"
   ]
  },
  {
   "cell_type": "code",
   "execution_count": 91,
   "metadata": {},
   "outputs": [
    {
     "name": "stdout",
     "output_type": "stream",
     "text": [
      "Multiplication: 10 * 5 = 50\n"
     ]
    }
   ],
   "source": [
    "#multiply\n",
    "multiplication_result = num1 * num2\n",
    "print(f\"Multiplication: {num1} * {num2} = {multiplication_result}\")"
   ]
  },
  {
   "cell_type": "code",
   "execution_count": 92,
   "metadata": {},
   "outputs": [
    {
     "name": "stdout",
     "output_type": "stream",
     "text": [
      "Division: 10 / 5 = 2.0\n"
     ]
    }
   ],
   "source": [
    "#division\n",
    "division_result = num1 / num2\n",
    "print(f\"Division: {num1} / {num2} = {division_result}\")"
   ]
  },
  {
   "cell_type": "code",
   "execution_count": 93,
   "metadata": {},
   "outputs": [
    {
     "name": "stdout",
     "output_type": "stream",
     "text": [
      "Remainder: 10 % 5 = 0\n"
     ]
    }
   ],
   "source": [
    "#remainder\n",
    "remainder_result = num1 % num2\n",
    "print(f\"Remainder: {num1} % {num2} = {remainder_result}\")"
   ]
  },
  {
   "cell_type": "code",
   "execution_count": 94,
   "metadata": {},
   "outputs": [
    {
     "name": "stdout",
     "output_type": "stream",
     "text": [
      "Power: 10 ^ 5 = 100000\n"
     ]
    }
   ],
   "source": [
    "#power\n",
    "power_result = num1 ** num2\n",
    "print(f\"Power: {num1} ^ {num2} = {power_result}\")"
   ]
  },
  {
   "cell_type": "code",
   "execution_count": 95,
   "metadata": {},
   "outputs": [
    {
     "name": "stdout",
     "output_type": "stream",
     "text": [
      "Fruits List: ['Apple', 'Banana', 'Orange', 'Grapes', 'Mango']\n"
     ]
    }
   ],
   "source": [
    "#2\n",
    "#list 5 fruits\n",
    "fruits = [\"Apple\", \"Banana\", \"Orange\", \"Grapes\", \"Mango\"]\n",
    "print(\"Fruits List:\", fruits)"
   ]
  },
  {
   "cell_type": "code",
   "execution_count": 96,
   "metadata": {},
   "outputs": [
    {
     "name": "stdout",
     "output_type": "stream",
     "text": [
      "Animals Tuple: ('Cat', 'Dog', 'Elephant')\n"
     ]
    }
   ],
   "source": [
    "#tuple of 3 animals\n",
    "animals = (\"Cat\", \"Dog\", \"Elephant\")\n",
    "print(\"Animals Tuple:\", animals)"
   ]
  },
  {
   "cell_type": "code",
   "execution_count": 97,
   "metadata": {},
   "outputs": [
    {
     "name": "stdout",
     "output_type": "stream",
     "text": [
      "Programming Languages Dictionary: {'Python': '1991', 'Java': '1995', 'C++': '1985'}\n"
     ]
    }
   ],
   "source": [
    "#programming languages\n",
    "languages = {\n",
    "    \"Python\": \"1991\",\n",
    "    \"Java\": \"1995\",\n",
    "    \"C++\": \"1985\"\n",
    "}\n",
    "print(\"Programming Languages Dictionary:\", languages)"
   ]
  },
  {
   "cell_type": "code",
   "execution_count": 98,
   "metadata": {},
   "outputs": [
    {
     "name": "stdout",
     "output_type": "stream",
     "text": [
      "Colours Set: {'Green', 'Red', 'Blue'}\n"
     ]
    }
   ],
   "source": [
    "#colours\n",
    "colours = {\"Red\", \"Blue\", \"Green\"}\n",
    "print(\"Colours Set:\", colours)"
   ]
  },
  {
   "cell_type": "code",
   "execution_count": 99,
   "metadata": {},
   "outputs": [
    {
     "name": "stdout",
     "output_type": "stream",
     "text": [
      "Sentence: Python is an easy-to-learn programming language.\n"
     ]
    }
   ],
   "source": [
    "#sentence\n",
    "sentence = \"Python is an easy-to-learn programming language.\"\n",
    "print(\"Sentence:\", sentence)"
   ]
  },
  {
   "cell_type": "code",
   "execution_count": 100,
   "metadata": {},
   "outputs": [
    {
     "name": "stdout",
     "output_type": "stream",
     "text": [
      "5.0 is positive.\n"
     ]
    }
   ],
   "source": [
    "#3\n",
    "#positive, negative or 0\n",
    "number = float(input(\"Enter a number: \"))\n",
    "if number > 0:\n",
    "    print(f\"{number} is positive.\")\n",
    "elif number < 0:\n",
    "    print(f\"{number} is negative.\")\n",
    "else:\n",
    "    print(f\"{number} is zero.\")"
   ]
  },
  {
   "cell_type": "code",
   "execution_count": 101,
   "metadata": {},
   "outputs": [
    {
     "name": "stdout",
     "output_type": "stream",
     "text": [
      "The string '4' starts with a consonant.\n"
     ]
    }
   ],
   "source": [
    "#vowel or consonant \n",
    "string = input(\"Enter a string: \").lower()  # Convert input to lowercase to handle case sensitivity\n",
    "if string[0] in 'aeiou':  # Check if the first character is a vowel\n",
    "    print(f\"The string '{string}' starts with a vowel.\")\n",
    "else:\n",
    "    print(f\"The string '{string}' starts with a consonant.\")"
   ]
  },
  {
   "cell_type": "code",
   "execution_count": 102,
   "metadata": {},
   "outputs": [
    {
     "name": "stdout",
     "output_type": "stream",
     "text": [
      "5.0 and 5.0 are equal.\n"
     ]
    }
   ],
   "source": [
    "#equal\n",
    "num1 = float(input(\"Enter the first number: \"))\n",
    "num2 = float(input(\"Enter the second number: \"))\n",
    "if num1 == num2:\n",
    "    print(f\"{num1} and {num2} are equal.\")\n",
    "else:\n",
    "    print(f\"{num1} and {num2} are not equal.\")\n"
   ]
  },
  {
   "cell_type": "code",
   "execution_count": 103,
   "metadata": {},
   "outputs": [
    {
     "name": "stdout",
     "output_type": "stream",
     "text": [
      "Numbers from 1 to 10:\n",
      "1\n",
      "2\n",
      "3\n",
      "4\n",
      "5\n",
      "6\n",
      "7\n",
      "8\n",
      "9\n",
      "10\n"
     ]
    }
   ],
   "source": [
    "#4\n",
    "#\n",
    "print(\"Numbers from 1 to 10:\")\n",
    "for i in range(1, 11):\n",
    "    print(i)"
   ]
  },
  {
   "cell_type": "code",
   "execution_count": 104,
   "metadata": {},
   "outputs": [
    {
     "name": "stdout",
     "output_type": "stream",
     "text": [
      "\n",
      "Even numbers from 2 to 10:\n",
      "2\n",
      "4\n",
      "6\n",
      "8\n",
      "10\n"
     ]
    }
   ],
   "source": [
    "#\n",
    "print(\"\\nEven numbers from 2 to 10:\")\n",
    "for i in range(2, 11, 2):  # Start at 2, stop at 11, increment by 2\n",
    "    print(i)"
   ]
  },
  {
   "cell_type": "code",
   "execution_count": 105,
   "metadata": {},
   "outputs": [
    {
     "name": "stdout",
     "output_type": "stream",
     "text": [
      "\n",
      "First 5 numbers of the Fibonacci sequence:\n",
      "0\n",
      "1\n",
      "1\n",
      "2\n",
      "3\n"
     ]
    }
   ],
   "source": [
    "#\n",
    "print(\"\\nFirst 5 numbers of the Fibonacci sequence:\")\n",
    "a, b = 0, 1\n",
    "count = 0\n",
    "while count < 5:\n",
    "    print(a)\n",
    "    a, b = b, a + b  # Update the Fibonacci numbers\n",
    "    count += 1"
   ]
  },
  {
   "cell_type": "code",
   "execution_count": 115,
   "metadata": {},
   "outputs": [
    {
     "name": "stdout",
     "output_type": "stream",
     "text": [
      "The sum is: 15\n"
     ]
    }
   ],
   "source": [
    "#5\n",
    "#sum of 2 numbers\n",
    "def add_numbers(num1, num2):\n",
    "    return num1 + num2\n",
    "\n",
    "sum_result = add_numbers(10, 5)\n",
    "print(f\"The sum is: {sum_result}\")"
   ]
  },
  {
   "cell_type": "code",
   "execution_count": 116,
   "metadata": {},
   "outputs": [
    {
     "name": "stdout",
     "output_type": "stream",
     "text": [
      "The largest number is: 12\n"
     ]
    }
   ],
   "source": [
    "#largest number\n",
    "def find_largest_number(numbers):\n",
    "    return max(numbers)\n",
    "\n",
    "numbers_list = [1, 5, 8, 12, 3]\n",
    "largest_number = find_largest_number(numbers_list)\n",
    "print(f\"The largest number is: {largest_number}\")"
   ]
  },
  {
   "cell_type": "code",
   "execution_count": 117,
   "metadata": {},
   "outputs": [
    {
     "name": "stdout",
     "output_type": "stream",
     "text": [
      "The number of vowels in the string 'Hello World' is: 3\n"
     ]
    }
   ],
   "source": [
    "#vowels in string\n",
    "def count_vowels(input_string):\n",
    "    vowels = \"aeiouAEIOU\"\n",
    "    count = 0\n",
    "    for char in input_string:\n",
    "        if char in vowels:\n",
    "            count += 1\n",
    "    return count\n",
    "\n",
    "input_string = \"Hello World\"\n",
    "vowel_count = count_vowels(input_string)\n",
    "print(f\"The number of vowels in the string '{input_string}' is: {vowel_count}\")"
   ]
  },
  {
   "cell_type": "code",
   "execution_count": 122,
   "metadata": {},
   "outputs": [
    {
     "name": "stdout",
     "output_type": "stream",
     "text": [
      "Password is weak. The following criteria were not met:\n",
      "- Password must be at least 8 characters long.\n",
      "- Password must contain at least one uppercase letter.\n",
      "- Password must contain at least one lowercase letter.\n",
      "- Password must contain at least one special character (e.g., @, #, $, %, etc.).\n"
     ]
    }
   ],
   "source": [
    "#6\n",
    "#password checker\n",
    "\n",
    "import string\n",
    "\n",
    "#check strength\n",
    "def check_password_strength(password):\n",
    "    #Criteria\n",
    "    errors = []\n",
    "\n",
    "    #8 characters\n",
    "    if len(password) < 8:\n",
    "        errors.append(\"Password must be at least 8 characters long.\")\n",
    "    \n",
    "    #1 uppercase\n",
    "    if not any(char.isupper() for char in password):\n",
    "        errors.append(\"Password must contain at least one uppercase letter.\")\n",
    "    \n",
    "    #1 lowercase\n",
    "    if not any(char.islower() for char in password):\n",
    "        errors.append(\"Password must contain at least one lowercase letter.\")\n",
    "    \n",
    "    #special character\n",
    "    if not any(char in string.punctuation for char in password):\n",
    "        errors.append(\"Password must contain at least one special character (e.g., @, #, $, %, etc.).\")\n",
    "    \n",
    "    if not errors:\n",
    "        print(\"Password is strong\")\n",
    "    else:\n",
    "        print(\"Password is weak. The following criteria were not met:\")\n",
    "        for error in errors:\n",
    "            print(f\"- {error}\")\n",
    "\n",
    "password = input(\"Enter your password: \")\n",
    "check_password_strength(password)\n"
   ]
  },
  {
   "cell_type": "code",
   "execution_count": null,
   "metadata": {},
   "outputs": [
    {
     "name": "stdout",
     "output_type": "stream",
     "text": [
      "Output: KHOOR\n"
     ]
    }
   ],
   "source": [
    "#7\n",
    "#Ceasar Cipher\n",
    "def caesar_cipher(message, key, mode):\n",
    "    result = \"\"\n",
    "\n",
    "    key = key % 26\n",
    "    \n",
    "    for char in message:\n",
    "        if char.isalpha():\n",
    "            start = 65 if char.isupper() else 97\n",
    "            \n",
    "            if mode == \"encrypt\":\n",
    "                # Shift character forward by the key\n",
    "                new_char = chr((ord(char) - start + key) % 26 + start)\n",
    "            elif mode == \"decrypt\":\n",
    "                # Shift character backward by the key\n",
    "                new_char = chr((ord(char) - start - key) % 26 + start)\n",
    "            result += new_char\n",
    "        else:\n",
    "            result += char\n",
    "\n",
    "    return result\n",
    "\n",
    "message = input(\"Enter the message: \")\n",
    "key = int(input(\"Enter the key (shift value): \"))\n",
    "mode = input(\"Enter mode (encrypt/decrypt): \").lower()\n",
    "\n",
    "if mode in [\"encrypt\", \"decrypt\"]:\n",
    "    output = caesar_cipher(message, key, mode)\n",
    "    print(f\"Output: {output}\")\n",
    "else:\n",
    "    print(\"Invalid mode! Please enter 'encrypt' or 'decrypt'.\")\n"
   ]
  },
  {
   "cell_type": "code",
   "execution_count": 130,
   "metadata": {},
   "outputs": [
    {
     "name": "stdout",
     "output_type": "stream",
     "text": [
      "Welcome to Hangman!\n",
      "Try to guess the word.\n",
      "Word to guess: _ _ _ _ _ _\n",
      "Incorrect guess. You have 5 guesses left.\n",
      "_ _ _ _ _ _\n",
      "Incorrect guess. You have 4 guesses left.\n",
      "_ _ _ _ _ _\n",
      "You've already guessed the letter 'p'. Try a different one.\n",
      "You've already guessed the letter 's'. Try a different one.\n",
      "You've already guessed the letter 's'. Try a different one.\n",
      "Please enter a single letter.\n",
      "Good guess!\n",
      "_ _ _ k _ _\n",
      "Incorrect guess. You have 3 guesses left.\n",
      "_ _ _ k _ _\n",
      "You've already guessed the letter 's'. Try a different one.\n",
      "Incorrect guess. You have 2 guesses left.\n",
      "_ _ _ k _ _\n",
      "Good guess!\n",
      "_ _ _ k e _\n",
      "You've already guessed the letter 'e'. Try a different one.\n",
      "Incorrect guess. You have 1 guesses left.\n",
      "_ _ _ k e _\n",
      "Incorrect guess. You have 0 guesses left.\n",
      "_ _ _ k e _\n",
      "Game over! The word was 'monkey'.\n"
     ]
    }
   ],
   "source": [
    "#8\n",
    "#\n",
    "import random\n",
    "\n",
    "# Function to play the Hangman game\n",
    "def play_hangman():\n",
    "    # Word list and max guesses\n",
    "    word_list = [\"python\", \"spider\", \"monkey\", \"red\", \"hide\"]\n",
    "    max_guesses = 6\n",
    "    \n",
    "    # Randomly select a word from the list\n",
    "    word = random.choice(word_list)\n",
    "    guessed_word = [\"_\"] * len(word)  # A list of underscores to represent the word\n",
    "    guessed_letters = []  # A list to keep track of the letters the user has guessed\n",
    "    incorrect_guesses = 0  # Counter for incorrect guesses\n",
    "\n",
    "    print(\"Welcome to Hangman!\")\n",
    "    print(\"Try to guess the word.\")\n",
    "    print(\"Word to guess:\", \" \".join(guessed_word))  # Display the word with underscores\n",
    "\n",
    "    # Game loop\n",
    "    while incorrect_guesses < max_guesses:\n",
    "        # Get a letter guess from the user\n",
    "        guess = input(\"\\nGuess a letter: \").lower()\n",
    "\n",
    "        # Validate the input\n",
    "        if len(guess) != 1 or not guess.isalpha():\n",
    "            print(\"Please enter a single letter.\")\n",
    "            continue\n",
    "        \n",
    "        # Check if the letter has already been guessed\n",
    "        if guess in guessed_letters:\n",
    "            print(f\"You've already guessed the letter '{guess}'. Try a different one.\")\n",
    "            continue\n",
    "\n",
    "        # Add the guessed letter to the guessed letters list\n",
    "        guessed_letters.append(guess)\n",
    "\n",
    "        # Check if the letter is in the word\n",
    "        if guess in word:\n",
    "            # Update the guessed word with the correct letter\n",
    "            for i in range(len(word)):\n",
    "                if word[i] == guess:\n",
    "                    guessed_word[i] = guess\n",
    "            print(\"Good guess!\")\n",
    "        else:\n",
    "            # Increase the incorrect guesses counter\n",
    "            incorrect_guesses += 1\n",
    "            print(f\"Incorrect guess. You have {max_guesses - incorrect_guesses} guesses left.\")\n",
    "\n",
    "        # Display the current state of the word\n",
    "        print(\" \".join(guessed_word))\n",
    "\n",
    "        # Check if the user has guessed the whole word\n",
    "        if \"_\" not in guessed_word:\n",
    "            print(f\"Congratulations, you guessed the word '{word}'!\")\n",
    "            break\n",
    "    else:\n",
    "        # If the loop exits and the user has used all guesses\n",
    "        print(f\"Game over! The word was '{word}'.\")\n",
    "\n",
    "# Run the game\n",
    "play_hangman()\n"
   ]
  }
 ],
 "metadata": {
  "kernelspec": {
   "display_name": "Python 3",
   "language": "python",
   "name": "python3"
  },
  "language_info": {
   "codemirror_mode": {
    "name": "ipython",
    "version": 3
   },
   "file_extension": ".py",
   "mimetype": "text/x-python",
   "name": "python",
   "nbconvert_exporter": "python",
   "pygments_lexer": "ipython3",
   "version": "3.13.2"
  }
 },
 "nbformat": 4,
 "nbformat_minor": 2
}
