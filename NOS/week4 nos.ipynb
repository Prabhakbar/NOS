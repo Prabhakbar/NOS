{
 "cells": [
  {
   "cell_type": "code",
   "execution_count": null,
   "metadata": {},
   "outputs": [],
   "source": [
    "import socket\n",
    "\n",
    "server_socket = socket.socket(socket.AF_INET, socket.SOCK_DGRAM)\n",
    "server_socket.bind(('localhost', 65433))\n",
    "\n",
    "print(\"UDP Chat Server is ready to receive messages...\")\n",
    "\n",
    "clients = {}\n",
    "\n",
    "while True:\n",
    "    data, client_address = server_socket.recvfrom(2048)\n",
    "    \n",
    "    if client_address not in clients:\n",
    "        clients[client_address] = True\n",
    "        print(f\"New client connected: {client_address}\")\n",
    "    \n",
    "    for address in clients:\n",
    "        if address != client_address:\n",
    "            server_socket.sendto(data, address)\n",
    "    \n",
    "    print(f\"Received from {client_address}: {data.decode()}\")"
   ]
  },
  {
   "cell_type": "code",
   "execution_count": null,
   "metadata": {},
   "outputs": [],
   "source": [
    "import socket\n",
    "import threading\n",
    "\n",
    "def receive_messages(client_socket):\n",
    "    while True:\n",
    "        data, _ = client_socket.recvfrom(2048)\n",
    "        print(f\"Received: {data.decode()}\")\n",
    "\n",
    "client_socket = socket.socket(socket.AF_INET, socket.SOCK_DGRAM)\n",
    "\n",
    "server_address = ('localhost', 65433)\n",
    "\n",
    "receive_thread = threading.Thread(target=receive_messages, args=(client_socket,))\n",
    "receive_thread.start()\n",
    "\n",
    "while True:\n",
    "    message = input(\"Enter message: \")\n",
    "    client_socket.sendto(message.encode(), server_address)"
   ]
  }
 ],
 "metadata": {
  "language_info": {
   "name": "python"
  }
 },
 "nbformat": 4,
 "nbformat_minor": 2
}
