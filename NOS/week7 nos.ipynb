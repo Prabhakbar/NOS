{
 "cells": [
  {
   "cell_type": "code",
   "execution_count": 2,
   "metadata": {},
   "outputs": [
    {
     "name": "stdout",
     "output_type": "stream",
     "text": [
      "Original Data:  [1, 0, 1, 0, 1, 1, 0, 0]\n",
      "Computed Parity Bit (Even): 0\n",
      "\n",
      "Transmitted Data (Data + Parity): [1, 0, 1, 0, 1, 1, 0, 0, 0]\n"
     ]
    }
   ],
   "source": [
    "#Function to compute even parity bit\n",
    "def compute_even_parity(data):\n",
    "    #Sum the data bits and take modulo 2.\n",
    "    #If sum is odd, parity bit is 1 (to make total even); if even, parity bit\n",
    "#is 0.\n",
    "    return sum(data) % 2\n",
    "#Original data bits (example)\n",
    "data = [1, 0, 1, 0, 1, 1, 0, 0]\n",
    "parity_bit = compute_even_parity(data)\n",
    "print(\"Original Data: \", data)\n",
    "print(\"Computed Parity Bit (Even):\", parity_bit)\n",
    "\n",
    "#Transmitted data: append parity bit to the data array\n",
    "transmitted_data = data + [parity_bit]\n",
    "print(\"\\nTransmitted Data (Data + Parity):\", transmitted_data)"
   ]
  },
  {
   "cell_type": "code",
   "execution_count": null,
   "metadata": {},
   "outputs": [
    {
     "name": "stdout",
     "output_type": "stream",
     "text": [
      "Original Data:  [1, 0, 1, 1, 1]\n",
      "Computed Parity Bit (Even): 0\n",
      "\n",
      "Transmitted Data (Data + Parity): [1, 0, 1, 1, 1, 0]\n"
     ]
    }
   ],
   "source": [
    "#1\n",
    "#Function to compute even parity bit\n",
    "def compute_even_parity(data):\n",
    "    #Sum the data bits and take modulo 2.\n",
    "    #If sum is odd, parity bit is 1 (to make total even); if even, parity bit\n",
    "#is 0.\n",
    "    return sum(data) % 2\n",
    "#Original data bits (example)\n",
    "data = [1, 0, 1, 1, 1]\n",
    "parity_bit = compute_even_parity(data)\n",
    "print(\"Original Data: \", data)\n",
    "print(\"Computed Parity Bit (Even):\", parity_bit)\n",
    "\n",
    "#Transmitted data: append parity bit to the data array\n",
    "transmitted_data = data + [parity_bit]\n",
    "print(\"\\nTransmitted Data (Data + Parity):\", transmitted_data)"
   ]
  },
  {
   "cell_type": "code",
   "execution_count": null,
   "metadata": {},
   "outputs": [
    {
     "name": "stdout",
     "output_type": "stream",
     "text": [
      "Original Data:  [1, 1, 0, 1, 0, 0, 1]\n",
      "Computed Parity Bit (Even): 0\n",
      "\n",
      "Transmitted Data (Data + Parity): [1, 1, 0, 1, 0, 0, 1, 0]\n"
     ]
    }
   ],
   "source": [
    "#2\n",
    "#Function to compute even parity bit\n",
    "def compute_even_parity(data):\n",
    "    #Sum the data bits and take modulo 2.\n",
    "    #If sum is odd, parity bit is 1 (to make total even); if even, parity bit\n",
    "#is 0.\n",
    "    return sum(data) % 2\n",
    "#Original data bits (example)\n",
    "data = [1, 1, 0, 1, 0, 0, 1]\n",
    "parity_bit = compute_even_parity(data)\n",
    "print(\"Original Data: \", data)\n",
    "print(\"Computed Parity Bit (Even):\", parity_bit)\n",
    "\n",
    "#Transmitted data: append parity bit to the data array\n",
    "transmitted_data = data + [parity_bit]\n",
    "print(\"\\nTransmitted Data (Data + Parity):\", transmitted_data)"
   ]
  },
  {
   "cell_type": "code",
   "execution_count": null,
   "metadata": {},
   "outputs": [
    {
     "name": "stdout",
     "output_type": "stream",
     "text": [
      "Original Data:  [1, 1, 1, 1]\n",
      "Computed Parity Bit (Even): 0\n",
      "\n",
      "Transmitted Data (Data + Parity): [1, 1, 1, 1, 0]\n"
     ]
    }
   ],
   "source": [
    "#3\n",
    "#Function to compute even parity bit\n",
    "def compute_even_parity(data):\n",
    "    #Sum the data bits and take modulo 2.\n",
    "    #If sum is odd, parity bit is 1 (to make total even); if even, parity bit\n",
    "#is 0.\n",
    "    return sum(data) % 2\n",
    "#Original data bits (example)\n",
    "data = [1, 1, 1, 1]\n",
    "parity_bit = compute_even_parity(data)\n",
    "print(\"Original Data: \", data)\n",
    "print(\"Computed Parity Bit (Even):\", parity_bit)\n",
    "\n",
    "#Transmitted data: append parity bit to the data array\n",
    "transmitted_data = data + [parity_bit]\n",
    "print(\"\\nTransmitted Data (Data + Parity):\", transmitted_data)"
   ]
  },
  {
   "cell_type": "code",
   "execution_count": null,
   "metadata": {},
   "outputs": [
    {
     "name": "stdout",
     "output_type": "stream",
     "text": [
      "Original Data:  [1, 0, 1, 0, 1, 1, 0, 0]\n",
      "Computed Parity Bit (Even): 0\n",
      "\n",
      "Transmitted Data (Data + Parity): [1, 0, 1, 0, 1, 1, 0, 0, 0]\n",
      "\n",
      "Corrupted Data (After Bit Flip at index 3 ): [1, 0, 1, 1, 1, 1, 0, 0, 0]\n",
      "Recomputed Parity Bit: 1\n",
      "Error Detected ❌\n"
     ]
    },
    {
     "data": {
      "text/plain": [
       "3"
      ]
     },
     "execution_count": 6,
     "metadata": {},
     "output_type": "execute_result"
    }
   ],
   "source": [
    "#task 2\n",
    "def compute_even_parity(data):\n",
    "    return sum(data) % 2  \n",
    "\n",
    "data = [1, 0, 1, 0, 1, 1, 0, 0]\n",
    "parity_bit = compute_even_parity(data)\n",
    "\n",
    "transmitted_data = data + [parity_bit]\n",
    "\n",
    "print(\"Original Data: \", data)\n",
    "print(\"Computed Parity Bit (Even):\", parity_bit)\n",
    "print(\"\\nTransmitted Data (Data + Parity):\", transmitted_data)\n",
    "\n",
    "error_index = 3  \n",
    "transmitted_data[error_index] ^= 1  \n",
    "\n",
    "print(\"\\nCorrupted Data (After Bit Flip at index\", error_index, \"):\", transmitted_data)\n",
    "\n",
    "received_parity = compute_even_parity(transmitted_data[:-1])  \n",
    "\n",
    "print(\"Recomputed Parity Bit:\", received_parity)\n",
    "\n",
    "if received_parity == transmitted_data[-1]:\n",
    "    print(\"No Error Detected ✅\")\n",
    "else:\n",
    "    print(\"Error Detected ❌\")\n",
    "3"
   ]
  }
 ],
 "metadata": {
  "kernelspec": {
   "display_name": "Python 3",
   "language": "python",
   "name": "python3"
  },
  "language_info": {
   "codemirror_mode": {
    "name": "ipython",
    "version": 3
   },
   "file_extension": ".py",
   "mimetype": "text/x-python",
   "name": "python",
   "nbconvert_exporter": "python",
   "pygments_lexer": "ipython3",
   "version": "3.13.2"
  }
 },
 "nbformat": 4,
 "nbformat_minor": 2
}
